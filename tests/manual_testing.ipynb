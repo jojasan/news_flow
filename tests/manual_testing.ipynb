{
 "cells": [
  {
   "cell_type": "code",
   "execution_count": 43,
   "metadata": {},
   "outputs": [
    {
     "name": "stdout",
     "output_type": "stream",
     "text": [
      "Workflow started! Task ID: 1\n"
     ]
    }
   ],
   "source": [
    "import requests\n",
    "import time\n",
    "\n",
    "# Step 1: Trigger the workflow with a POST request\n",
    "post_url = \"http://localhost:8000/happifynews\"\n",
    "\n",
    "payload = {\n",
    "    \"topic\": \"Are video games good for kids and mental development?\",\n",
    "    \"num_starting_pool_news\": 2,\n",
    "    \"num_max_news\": 1,\n",
    "    \"perspective\": \"Optimistic\",\n",
    "    \"tone\": \"Scientific\"\n",
    "}\n",
    "\n",
    "response = requests.post(post_url, json=payload)\n",
    "\n",
    "# Print the response from the POST request\n",
    "if response.status_code == 200:\n",
    "    result = response.json()\n",
    "    task_id = result['task_id']\n",
    "    print(f\"Workflow started! Task ID: {task_id}\")\n",
    "else:\n",
    "    print(f\"Failed to start workflow. Status code: {response.status_code}\")\n",
    "    print(response.text)\n"
   ]
  },
  {
   "cell_type": "code",
   "execution_count": 48,
   "metadata": {},
   "outputs": [
    {
     "name": "stdout",
     "output_type": "stream",
     "text": [
      "Status: in progress\n",
      "Current step: plan_research\n"
     ]
    }
   ],
   "source": [
    "# Step 2: Manually check the status. Run this every 5 mins\n",
    "task_id = result[\"task_id\"]\n",
    "get_url = f\"http://localhost:8000/happifynews/{task_id}\"\n",
    "\n",
    "status_response = requests.get(get_url)\n",
    "if status_response.status_code == 200:\n",
    "    status_data = status_response.json()\n",
    "    print(f\"Status: {status_data['status']}\")\n",
    "    print(f\"Current step: {status_data['current_step']}\")\n",
    "else:\n",
    "    print(\"Failed to retrieve task status.\")\n",
    "    print(status_response.text)\n"
   ]
  },
  {
   "cell_type": "code",
   "execution_count": null,
   "metadata": {},
   "outputs": [],
   "source": [
    "status_response.json()"
   ]
  }
 ],
 "metadata": {
  "kernelspec": {
   "display_name": ".venv",
   "language": "python",
   "name": "python3"
  },
  "language_info": {
   "codemirror_mode": {
    "name": "ipython",
    "version": 3
   },
   "file_extension": ".py",
   "mimetype": "text/x-python",
   "name": "python",
   "nbconvert_exporter": "python",
   "pygments_lexer": "ipython3",
   "version": "3.11.9"
  }
 },
 "nbformat": 4,
 "nbformat_minor": 2
}
