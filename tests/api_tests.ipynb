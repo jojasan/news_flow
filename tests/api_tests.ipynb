{
 "cells": [
  {
   "cell_type": "code",
   "execution_count": 7,
   "metadata": {},
   "outputs": [],
   "source": [
    "from crewai.llm import LLM\n",
    "llm=LLM(\n",
    "    model=\"openai/o3-mini\", \n",
    "    num_retries=3,\n",
    "    fallbacks=[\n",
    "        {\n",
    "            \"model\": \"openrouter/google/gemini-2.0-flash-001\",\n",
    "            \"base_url\": \"https://openrouter.ai/api/v1\",\n",
    "        },\n",
    "        {\n",
    "            \"model\": \"openai/gpt-4o\"\n",
    "        },\n",
    "    ],\n",
    ")\n",
    "\n",
    "llm2=LLM(\n",
    "    model=\"openrouter/google/gemini-2.0-flash-001\", \n",
    "    base_url= \"https://openrouter.ai/api/v1\",\n",
    "    num_retries=3,\n",
    "    fallbacks=[\n",
    "        {\n",
    "            \"model\": \"openai/gpt-4o\"\n",
    "        },\n",
    "    ],\n",
    ")"
   ]
  },
  {
   "cell_type": "code",
   "execution_count": 8,
   "metadata": {},
   "outputs": [
    {
     "name": "stderr",
     "output_type": "stream",
     "text": [
      "Task was destroyed but it is pending!\n",
      "task: <Task pending name='Task-23' coro=<Logging.async_success_handler() running at c:\\Users\\jojas\\Code\\Cursor\\HappierNews\\news_flow\\.venv\\Lib\\site-packages\\litellm\\litellm_core_utils\\litellm_logging.py:1516>>\n"
     ]
    },
    {
     "data": {
      "text/plain": [
       "\"I'm ChatGPT, a large language model developed by OpenAI, and I'm based on the GPT-4 architecture.\""
      ]
     },
     "execution_count": 8,
     "metadata": {},
     "output_type": "execute_result"
    }
   ],
   "source": [
    "llm.call(\"Which LLM model are you?\")"
   ]
  },
  {
   "cell_type": "code",
   "execution_count": 9,
   "metadata": {},
   "outputs": [
    {
     "name": "stdout",
     "output_type": "stream",
     "text": [
      "\n",
      "\n",
      "LiteLLM.Info: If you need to debug this error, use `litellm._turn_on_debug()'.\n",
      "\n"
     ]
    },
    {
     "data": {
      "text/plain": [
       "'I am a large language model, trained by Google.\\n'"
      ]
     },
     "execution_count": 9,
     "metadata": {},
     "output_type": "execute_result"
    }
   ],
   "source": [
    "llm2.call(\"Which LLM model are you?\")"
   ]
  }
 ],
 "metadata": {
  "kernelspec": {
   "display_name": ".venv",
   "language": "python",
   "name": "python3"
  },
  "language_info": {
   "codemirror_mode": {
    "name": "ipython",
    "version": 3
   },
   "file_extension": ".py",
   "mimetype": "text/x-python",
   "name": "python",
   "nbconvert_exporter": "python",
   "pygments_lexer": "ipython3",
   "version": "3.11.9"
  }
 },
 "nbformat": 4,
 "nbformat_minor": 2
}
